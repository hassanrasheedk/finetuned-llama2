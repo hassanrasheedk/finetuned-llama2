{
 "cells": [
  {
   "cell_type": "code",
   "execution_count": 1,
   "id": "dd591d8b-e4c7-4225-844e-f743c8a87b28",
   "metadata": {},
   "outputs": [
    {
     "ename": "ImportError",
     "evalue": "cannot import name 'GPTQConfig' from 'transformers' (/home/exouser/anaconda3/envs/llama/lib/python3.10/site-packages/transformers/__init__.py)",
     "output_type": "error",
     "traceback": [
      "\u001b[0;31m---------------------------------------------------------------------------\u001b[0m",
      "\u001b[0;31mImportError\u001b[0m                               Traceback (most recent call last)",
      "Cell \u001b[0;32mIn[1], line 5\u001b[0m\n\u001b[1;32m      3\u001b[0m \u001b[38;5;28;01mfrom\u001b[39;00m \u001b[38;5;21;01mtorch\u001b[39;00m \u001b[38;5;28;01mimport\u001b[39;00m cuda\n\u001b[1;32m      4\u001b[0m \u001b[38;5;28;01mimport\u001b[39;00m \u001b[38;5;21;01mos\u001b[39;00m\n\u001b[0;32m----> 5\u001b[0m \u001b[38;5;28;01mfrom\u001b[39;00m \u001b[38;5;21;01mtransformers\u001b[39;00m \u001b[38;5;28;01mimport\u001b[39;00m (\n\u001b[1;32m      6\u001b[0m     AutoConfig,\n\u001b[1;32m      7\u001b[0m     AutoModelForCausalLM,\n\u001b[1;32m      8\u001b[0m     AutoTokenizer,\n\u001b[1;32m      9\u001b[0m     GPTQConfig,\n\u001b[1;32m     10\u001b[0m     HfArgumentParser,\n\u001b[1;32m     11\u001b[0m     TrainingArguments,\n\u001b[1;32m     12\u001b[0m     pipeline,\n\u001b[1;32m     13\u001b[0m     logging\n\u001b[1;32m     14\u001b[0m )\n\u001b[1;32m     15\u001b[0m \u001b[38;5;28;01mfrom\u001b[39;00m \u001b[38;5;21;01mpeft\u001b[39;00m \u001b[38;5;28;01mimport\u001b[39;00m LoraConfig, PeftModel\n\u001b[1;32m     16\u001b[0m \u001b[38;5;28;01mfrom\u001b[39;00m \u001b[38;5;21;01mtrl\u001b[39;00m \u001b[38;5;28;01mimport\u001b[39;00m SFTTrainer\n",
      "\u001b[0;31mImportError\u001b[0m: cannot import name 'GPTQConfig' from 'transformers' (/home/exouser/anaconda3/envs/llama/lib/python3.10/site-packages/transformers/__init__.py)"
     ]
    }
   ],
   "source": [
    "from datasets import load_dataset, DatasetDict\n",
    "from config import HUGGING_FACE_TOKEN as token\n",
    "from torch import cuda\n",
    "import os\n",
    "from transformers import (\n",
    "    AutoConfig,\n",
    "    AutoModelForCausalLM,\n",
    "    AutoTokenizer,\n",
    "    GPTQConfig,\n",
    "    HfArgumentParser,\n",
    "    TrainingArguments,\n",
    "    pipeline,\n",
    "    logging\n",
    ")\n",
    "from peft import LoraConfig, PeftModel\n",
    "from trl import SFTTrainer\n",
    "\n",
    "# os.environ['CUDA_LAUNCH_BLOCKING'] = \"1\"\n",
    "\n",
    "cache_dir = \"models/\"\n",
    "model_name = \"meta-llama/Llama-2-7b-chat-hf\"\n",
    "\n",
    "# Load Yahoo Answers Topics dataset\n",
    "dataset = load_dataset(\"yahoo_answers_topics\")"
   ]
  },
  {
   "cell_type": "code",
   "execution_count": null,
   "id": "d66a1919-3caa-484d-9f03-14cb3f4cbaa9",
   "metadata": {},
   "outputs": [],
   "source": [
    "# Use a suitable tokenizer from Hugging Face\n",
    "tokenizer = AutoTokenizer.from_pretrained(model_name, token=token, trust_remote_code=True)\n",
    "tokenizer.pad_token = tokenizer.eos_token\n",
    "tokenizer.padding_side = 'right'"
   ]
  },
  {
   "cell_type": "code",
   "execution_count": null,
   "id": "a4b06f7e-ad76-4369-9f77-5b0b1a384baf",
   "metadata": {},
   "outputs": [],
   "source": [
    "# import torch\n",
    "# import transformers\n",
    "\n",
    "# Quantization to load an LLM with less GPU memory\n",
    "bnb_config = BitsAndBytesConfig(\n",
    "    load_in_4bit=True,  # 4-bit quantization\n",
    "    bnb_4bit_quant_type='nf4',  # Normalized float 4\n",
    "    bnb_4bit_use_double_quant=True,  # Second quantization after the first\n",
    "    bnb_4bit_compute_dtype=\"float16\"  # Computation type\n",
    ")"
   ]
  },
  {
   "cell_type": "code",
   "execution_count": null,
   "id": "d279b1df-edba-42a7-b981-70963c68921a",
   "metadata": {},
   "outputs": [],
   "source": [
    "#!pip install peft\n",
    "#!pip install trl"
   ]
  },
  {
   "cell_type": "code",
   "execution_count": null,
   "id": "139174c0-9f66-4fbb-9c02-d624f445cb17",
   "metadata": {},
   "outputs": [],
   "source": [
    "# from transformers import AutoModelForCausalLM, TrainingArguments, Trainer\n",
    "from peft import get_peft_model\n",
    "# from trl import SFTTrainer\n",
    "\n",
    "# device = torch.device(\"cuda\" if torch.cuda.is_available() else \"CPU\")\n",
    "\n",
    "device_map = {\"\": 0}\n",
    "\n",
    "# Load the model for sequence classification\n",
    "model = AutoModelForCausalLM.from_pretrained(\n",
    "    model_name, \n",
    "    num_labels=20, \n",
    "    quantization_config=bnb_config,\n",
    "    token=token,\n",
    "    device_map=device_map,\n",
    "    trust_remote_code=True,\n",
    "    cache_dir=cache_dir\n",
    ")\n",
    "\n",
    "model.config.use_cache = False\n",
    "# More info: https://github.com/huggingface/transformers/pull/24906\n",
    "model.config.pretraining_tp = 1 \n",
    "\n",
    "peft_config = LoraConfig(\n",
    "    lora_alpha=16,\n",
    "    lora_dropout=0.1,\n",
    "    r=64,\n",
    "    bias=\"none\",\n",
    "    task_type=\"CAUSAL_LM\"\n",
    ")\n",
    "\n",
    "lora_model = get_peft_model(model, peft_config)\n",
    "lora_model.print_trainable_parameters()"
   ]
  },
  {
   "cell_type": "code",
   "execution_count": null,
   "id": "b1560a7b-248b-4e04-90a3-a38cdcd07ec4",
   "metadata": {},
   "outputs": [],
   "source": [
    "# Define training arguments\n",
    "training_args = TrainingArguments(\n",
    "    output_dir=\"./results\",\n",
    "    evaluation_strategy=\"steps\",\n",
    "    learning_rate=2e-4,\n",
    "    per_device_train_batch_size=4,\n",
    "    optim=\"paged_adamw_32bit\",\n",
    "    gradient_accumulation_steps=16,\n",
    "    num_train_epochs=1,\n",
    "    save_steps=300,\n",
    "    logging_steps=100,\n",
    "    eval_steps=300,\n",
    "    remove_unused_columns=False\n",
    ")\n",
    "\n",
    "# Create a Trainer instance\n",
    "trainer = SFTTrainer(\n",
    "    model=lora_model,\n",
    "    args=training_args,\n",
    "    peft_config=peft_config,\n",
    "    train_dataset=dataset[\"train\"],\n",
    "    eval_dataset=dataset[\"test\"],\n",
    "    dataset_text_field=\"best_answer\",\n",
    "    max_seq_length=512,\n",
    "    tokenizer=tokenizer,\n",
    "    packing=False\n",
    ")\n",
    "\n",
    "# Train the model\n",
    "trainer.train()"
   ]
  },
  {
   "cell_type": "code",
   "execution_count": null,
   "id": "3db6d2d7-8c8e-4d7b-8571-b949f1e90c9d",
   "metadata": {},
   "outputs": [],
   "source": [
    "import os\n",
    "output_dir = os.path.join(output_dir, \"final_checkpoint\")\n",
    "trainer.model.save_pretrained(output_dir)"
   ]
  },
  {
   "cell_type": "code",
   "execution_count": null,
   "id": "ee0a256b-6418-4bbd-9a1f-54e622b1509b",
   "metadata": {},
   "outputs": [],
   "source": [
    "# Define a function to get predictions\n",
    "def predict_topic(text, model, tokenizer):\n",
    "    inputs = tokenizer(text, return_tensors=\"pt\", truncation=True, padding='max_length', max_length=512)\n",
    "    outputs = model(**inputs)\n",
    "    predictions = torch.argmax(outputs.logits, dim=1)\n",
    "    return predictions\n",
    "\n",
    "# Example of predicting topics for unseen text\n",
    "unseen_text = \"Your unseen text goes here.\"\n",
    "predicted_topic = predict_topic(unseen_text, model, tokenizer)\n",
    "print(f\"Predicted Topic: {predicted_topic}\")\n"
   ]
  },
  {
   "cell_type": "code",
   "execution_count": null,
   "id": "dc1c8c85-7150-4163-8a6a-98815bd96f3d",
   "metadata": {},
   "outputs": [],
   "source": [
    "# Assuming you have the unseen text in a variable named 'transcript'\n",
    "predicted_topic = predict_topic(transcript, model, tokenizer)\n",
    "print(f\"Predicted Topic: {predicted_topic}\")"
   ]
  }
 ],
 "metadata": {
  "kernelspec": {
   "display_name": "Python 3 (ipykernel)",
   "language": "python",
   "name": "python3"
  },
  "language_info": {
   "codemirror_mode": {
    "name": "ipython",
    "version": 3
   },
   "file_extension": ".py",
   "mimetype": "text/x-python",
   "name": "python",
   "nbconvert_exporter": "python",
   "pygments_lexer": "ipython3",
   "version": "3.10.14"
  }
 },
 "nbformat": 4,
 "nbformat_minor": 5
}
